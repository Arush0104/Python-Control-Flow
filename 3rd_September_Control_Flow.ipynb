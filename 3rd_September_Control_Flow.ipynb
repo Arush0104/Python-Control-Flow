{
 "cells": [
  {
   "cell_type": "markdown",
   "metadata": {},
   "source": [
    "<h1>Page 2 of Assignment</h1>"
   ]
  },
  {
   "cell_type": "markdown",
   "metadata": {},
   "source": [
    "<h3>Basic If-Else Statements</h3>"
   ]
  },
  {
   "cell_type": "code",
   "execution_count": 4,
   "metadata": {},
   "outputs": [
    {
     "name": "stdout",
     "output_type": "stream",
     "text": [
      "Postive number\n"
     ]
    }
   ],
   "source": [
    "#Question 1\n",
    "def check_sign(n):\n",
    "    if(n>0):\n",
    "        print(\"Postive number\")\n",
    "    else:\n",
    "        print(\"Negative number\")\n",
    "number=50\n",
    "check_sign(number)\n"
   ]
  },
  {
   "cell_type": "code",
   "execution_count": 6,
   "metadata": {},
   "outputs": [
    {
     "name": "stdout",
     "output_type": "stream",
     "text": [
      "Elligible\n",
      "Not elligible\n"
     ]
    }
   ],
   "source": [
    "#Question 2\n",
    "luke_age = 20\n",
    "joe_age=15\n",
    "def check(age):\n",
    "    if(age>=18):\n",
    "        print(\"Elligible\")\n",
    "    else:\n",
    "        print(\"Not elligible\")\n",
    "check(luke_age)\n",
    "check(joe_age)"
   ]
  },
  {
   "cell_type": "code",
   "execution_count": 7,
   "metadata": {},
   "outputs": [
    {
     "name": "stdout",
     "output_type": "stream",
     "text": [
      "30\n"
     ]
    }
   ],
   "source": [
    "#Question 3\n",
    "n1 =20\n",
    "n2 = 30\n",
    "def max(n1,n2):\n",
    "    if(n1>n2):\n",
    "        print(n1)\n",
    "    else:\n",
    "        print(n2)\n",
    "max(n1,n2)"
   ]
  },
  {
   "cell_type": "code",
   "execution_count": 12,
   "metadata": {},
   "outputs": [
    {
     "name": "stdout",
     "output_type": "stream",
     "text": [
      "A leap year\n"
     ]
    }
   ],
   "source": [
    "#Question 4\n",
    "def leap_year(year):\n",
    "    if(year%100==0 and year%400==0):\n",
    "        print(\"A leap year\")\n",
    "    elif(year%4 ==  0 and year%400==0):\n",
    "        print(\"Leap year\")\n",
    "    else:\n",
    "        print(\"Not a leap year\")\n",
    "leap_year(2000)\n"
   ]
  },
  {
   "cell_type": "code",
   "execution_count": 19,
   "metadata": {},
   "outputs": [
    {
     "name": "stdout",
     "output_type": "stream",
     "text": [
      "No\n"
     ]
    }
   ],
   "source": [
    "#Question 5\n",
    "def check_vowel(char):\n",
    "    vowels=\"aeiou\"\n",
    "    if char.lower() in l:\n",
    "        print(\"Yes\")\n",
    "    else:\n",
    "        print(\"No\")\n",
    "check_vowel('r')"
   ]
  },
  {
   "cell_type": "code",
   "execution_count": 20,
   "metadata": {},
   "outputs": [
    {
     "name": "stdout",
     "output_type": "stream",
     "text": [
      "Even number\n"
     ]
    }
   ],
   "source": [
    "#Question 6\n",
    "def check_even_or_odd(number):\n",
    "    if(number%2==0):\n",
    "        print(\"Even number\")\n",
    "    else:\n",
    "        print(\"Odd number\")\n",
    "check_even_or_odd(6)"
   ]
  },
  {
   "cell_type": "code",
   "execution_count": 22,
   "metadata": {},
   "outputs": [
    {
     "name": "stdout",
     "output_type": "stream",
     "text": [
      "50\n"
     ]
    }
   ],
   "source": [
    "#Question 7\n",
    "def abs(n):\n",
    "    if(n>0):\n",
    "        print(n)\n",
    "    else:\n",
    "        print(-1*n)\n",
    "number= -50\n",
    "abs(number)\n"
   ]
  },
  {
   "cell_type": "code",
   "execution_count": 26,
   "metadata": {},
   "outputs": [
    {
     "data": {
      "text/plain": [
       "30"
      ]
     },
     "execution_count": 26,
     "metadata": {},
     "output_type": "execute_result"
    }
   ],
   "source": [
    "#Question 8\n",
    "a=10\n",
    "b=20\n",
    "c=30\n",
    "def maximum(a, b, c):\n",
    "    max_val = -1\n",
    "    if a > b:\n",
    "        max_val = a\n",
    "    if c > max_val:\n",
    "        max_val = c\n",
    "    return max_val\n",
    "maximum(a,b,c)"
   ]
  },
  {
   "cell_type": "code",
   "execution_count": 27,
   "metadata": {},
   "outputs": [
    {
     "name": "stdout",
     "output_type": "stream",
     "text": [
      "Is Palindrome\n"
     ]
    }
   ],
   "source": [
    "#Question 9\n",
    "def reverse(word):\n",
    "    if(word==word[::-1]):\n",
    "        print(\"Is Palindrome\")\n",
    "    else:\n",
    "        print(\"Not a Palindrome\")\n",
    "reverse(\"racecar\")"
   ]
  },
  {
   "cell_type": "code",
   "execution_count": 28,
   "metadata": {},
   "outputs": [
    {
     "name": "stdout",
     "output_type": "stream",
     "text": [
      "A\n"
     ]
    }
   ],
   "source": [
    "#Question 10\n",
    "def grade(marks):\n",
    "    if(marks>85):\n",
    "        print(\"A\")\n",
    "    elif(marks>75):\n",
    "        print(\"B\")\n",
    "    elif(marks>65):\n",
    "        print(\"C\")\n",
    "    elif(marks>50):\n",
    "        print(\"D\")\n",
    "    else:\n",
    "        print(\"F\")\n",
    "grade(96)"
   ]
  },
  {
   "cell_type": "markdown",
   "metadata": {},
   "source": [
    "<h3>Nested If-Else Statements</h3>"
   ]
  },
  {
   "cell_type": "code",
   "execution_count": 29,
   "metadata": {},
   "outputs": [
    {
     "data": {
      "text/plain": [
       "30"
      ]
     },
     "execution_count": 29,
     "metadata": {},
     "output_type": "execute_result"
    }
   ],
   "source": [
    "#Question 11\n",
    "a=10\n",
    "b=20\n",
    "c=30\n",
    "def maximum(a,b,c):\n",
    "    max = -1\n",
    "    if(a>max):\n",
    "        max=a\n",
    "        if(c>max):\n",
    "            max=c\n",
    "    return max\n",
    "maximum(a,b,c)\n",
    "    "
   ]
  },
  {
   "cell_type": "code",
   "execution_count": 34,
   "metadata": {},
   "outputs": [
    {
     "name": "stdout",
     "output_type": "stream",
     "text": [
      "Scalene\n"
     ]
    }
   ],
   "source": [
    "#Question 12\n",
    "side1 = 12\n",
    "side2 = 13\n",
    "side3 = 14\n",
    "def type_of_triangle(side1, side2, side3):\n",
    "    if side1 == side2 == side3:\n",
    "        print(\"Equilateral\")\n",
    "    elif side1 == side2 or side1 == side3 or side2 == side3:\n",
    "        print(\"Isosceles\")\n",
    "    else:\n",
    "        print(\"Scalene\")\n",
    "\n",
    "type_of_triangle(side1, side2, side3)\n"
   ]
  },
  {
   "cell_type": "code",
   "execution_count": 2,
   "metadata": {},
   "outputs": [
    {
     "name": "stdout",
     "output_type": "stream",
     "text": [
      "2000 is a leap year\n",
      "2000 is a century year\n"
     ]
    }
   ],
   "source": [
    "#Question 13\n",
    "\n",
    "def is_leap_year(year):\n",
    "    return (year % 4 == 0 and year % 100 != 0) or (year % 400 == 0)\n",
    "\n",
    "def is_century_year(year):\n",
    "    return year % 100 == 0\n",
    "year=2000\n",
    "\n",
    "if is_leap_year(year):\n",
    "    print(f\"{year} is a leap year\")\n",
    "else:\n",
    "    print(f\"{year} is not a leap year\")\n",
    "\n",
    "if is_century_year(year):\n",
    "    print(f\"{year} is a century year\")\n",
    "else:\n",
    "    print(f\"{year} is not a century year\")\n"
   ]
  },
  {
   "cell_type": "code",
   "execution_count": 10,
   "metadata": {},
   "outputs": [
    {
     "name": "stdout",
     "output_type": "stream",
     "text": [
      "The number is positive.\n"
     ]
    }
   ],
   "source": [
    "#Question 14\n",
    "def check_sign(n):\n",
    "    if n > 0:\n",
    "        print(\"Positive.\")\n",
    "    elif n < 0:\n",
    "        print(\"Negative.\")\n",
    "    else:\n",
    "        print(\"Zero.\")\n",
    "check_sign(8)"
   ]
  },
  {
   "cell_type": "code",
   "execution_count": 11,
   "metadata": {},
   "outputs": [
    {
     "data": {
      "text/plain": [
       "True"
      ]
     },
     "execution_count": 11,
     "metadata": {},
     "output_type": "execute_result"
    }
   ],
   "source": [
    "#Question 15\n",
    "def check_age(age):\n",
    "    if(age>=13 and age<=19):\n",
    "        return True\n",
    "    return False\n",
    "check_age(15)"
   ]
  },
  {
   "cell_type": "code",
   "execution_count": 12,
   "metadata": {},
   "outputs": [
    {
     "name": "stdout",
     "output_type": "stream",
     "text": [
      "Acute.\n"
     ]
    }
   ],
   "source": [
    "#Question 16\n",
    "def check_angle(n):\n",
    "    if n > 90:\n",
    "        print(\"Obtuse\")\n",
    "    elif n < 90:\n",
    "        print(\"Acute\")\n",
    "    else:\n",
    "        print(\"Right angle\")\n",
    "check_angle(45)"
   ]
  },
  {
   "cell_type": "code",
   "execution_count": 22,
   "metadata": {},
   "outputs": [
    {
     "data": {
      "text/plain": [
       "(-0.27, -3.73)"
      ]
     },
     "execution_count": 22,
     "metadata": {},
     "output_type": "execute_result"
    }
   ],
   "source": [
    "#Question 17\n",
    "def roots(a,b,c):\n",
    "    discriminant = b**2-4*a*c\n",
    "    if(discriminant<0):\n",
    "        root1 = (-b+(discriminant**0.5))/(2*a)\n",
    "        root2 = (-b-(discriminant**0.5))/(2*a)\n",
    "        return round(root2.real, 2) + round(root2.imag, 2) * 1j,round(root1.real, 2) + round(root1.imag, 2) * 1j\n",
    "    else:\n",
    "        root1 = (-b+(discriminant**0.5))/(2*a)\n",
    "        root2 = (-b-(discriminant**0.5))/(2*a)\n",
    "        return round(root1,2), round(root2,2)\n",
    "roots(1,4,1)"
   ]
  },
  {
   "cell_type": "code",
   "execution_count": 23,
   "metadata": {},
   "outputs": [
    {
     "data": {
      "text/plain": [
       "'Thursday'"
      ]
     },
     "execution_count": 23,
     "metadata": {},
     "output_type": "execute_result"
    }
   ],
   "source": [
    "#Question 18\n",
    "def week(n):\n",
    "    if n == 1:\n",
    "        day = \"Monday\"\n",
    "    elif n == 2:\n",
    "        day = \"Tuesday\"\n",
    "    elif n == 3:\n",
    "        day = \"Wednesday\"\n",
    "    elif n == 4:\n",
    "        day = \"Thursday\"\n",
    "    elif n == 5:\n",
    "        day = \"Friday\"\n",
    "    elif n == 6:\n",
    "        day = \"Saturday\"\n",
    "    elif n == 7:\n",
    "        day = \"Sunday\"\n",
    "    else:\n",
    "        day = \"Invalid input. Please enter a number between 1 and 7.\"\n",
    "    return day\n",
    "week(4)"
   ]
  },
  {
   "cell_type": "code",
   "execution_count": 29,
   "metadata": {},
   "outputs": [
    {
     "data": {
      "text/plain": [
       "True"
      ]
     },
     "execution_count": 29,
     "metadata": {},
     "output_type": "execute_result"
    }
   ],
   "source": [
    "#Question 19\n",
    "def is_leap_year(year):\n",
    "    # Leap years are evenly divisible by 4\n",
    "    if year % 4 == 0:\n",
    "        # Leap years that are also divisible by 100 are not leap years unless they are divisible by 400\n",
    "        if year % 100 == 0:\n",
    "            return year % 400 == 0\n",
    "        else:\n",
    "            return True\n",
    "    else:\n",
    "        return False\n",
    "is_leap_year(2000)"
   ]
  },
  {
   "cell_type": "code",
   "execution_count": 46,
   "metadata": {},
   "outputs": [
    {
     "data": {
      "text/plain": [
       "True"
      ]
     },
     "execution_count": 46,
     "metadata": {},
     "output_type": "execute_result"
    }
   ],
   "source": [
    "#Question 20\n",
    "def is_prime(number):\n",
    "    if number <= 1:\n",
    "        return False\n",
    "    for i in range(2, int(number**0.5) + 1):\n",
    "        if number % i == 0:\n",
    "            return False\n",
    "    return True\n",
    "is_prime(3)"
   ]
  },
  {
   "cell_type": "markdown",
   "metadata": {},
   "source": [
    "<h3>Elif Statements</h3>"
   ]
  },
  {
   "cell_type": "code",
   "execution_count": 47,
   "metadata": {},
   "outputs": [
    {
     "data": {
      "text/plain": [
       "'B'"
      ]
     },
     "execution_count": 47,
     "metadata": {},
     "output_type": "execute_result"
    }
   ],
   "source": [
    "#Question 21\n",
    "def assign_grade(score):\n",
    "    if score >= 90:\n",
    "        return 'A'\n",
    "    elif score >= 80:\n",
    "        return 'B'\n",
    "    elif score >= 70:\n",
    "        return 'C'\n",
    "    elif score >= 60:\n",
    "        return 'D'\n",
    "    elif score >= 50:\n",
    "        return 'E'\n",
    "    else:\n",
    "        return 'F'\n",
    "\n",
    "assign_grade(85)"
   ]
  },
  {
   "cell_type": "code",
   "execution_count": 49,
   "metadata": {},
   "outputs": [
    {
     "data": {
      "text/plain": [
       "'Not a triangle'"
      ]
     },
     "execution_count": 49,
     "metadata": {},
     "output_type": "execute_result"
    }
   ],
   "source": [
    "#Question 22\n",
    "def triangle_type(a, a1, a2):\n",
    "    # Check if the angles form a valid triangle\n",
    "    if a + a1 + a2 != 180:\n",
    "        return \"Not a triangle\"\n",
    "    if a < 90 and a1 < 90 and a2 < 90:\n",
    "        return \"Acute triangle\"\n",
    "    elif a == 90 or a1 == 90 or a2 == 90:\n",
    "        return \"Right triangle\"\n",
    "    else:\n",
    "        return \"Obtuse triangle\"\n",
    "triangle_type(45,45,80)"
   ]
  },
  {
   "cell_type": "code",
   "execution_count": 60,
   "metadata": {},
   "outputs": [
    {
     "data": {
      "text/plain": [
       "'Overweight'"
      ]
     },
     "execution_count": 60,
     "metadata": {},
     "output_type": "execute_result"
    }
   ],
   "source": [
    "#Question 23\n",
    "def categorize_bmi(kg, m):\n",
    "    bmi = kg / (m ** 2)\n",
    "    if bmi < 18.5:\n",
    "        return \"Underweight\"\n",
    "    elif bmi < 25:\n",
    "        return \"Normal\"\n",
    "    elif bmi < 30:\n",
    "        return \"Overweight\"\n",
    "    else:\n",
    "        return \"Obese\"\n",
    "categorize_bmi(100,1.85)"
   ]
  },
  {
   "cell_type": "code",
   "execution_count": 61,
   "metadata": {},
   "outputs": [
    {
     "data": {
      "text/plain": [
       "'Negative'"
      ]
     },
     "execution_count": 61,
     "metadata": {},
     "output_type": "execute_result"
    }
   ],
   "source": [
    "#Question 24\n",
    "def check_number(number):\n",
    "    if number > 0:\n",
    "        return \"Positive\"\n",
    "    elif number < 0:\n",
    "        return \"Negative\"\n",
    "    else:\n",
    "        return \"Zero\"\n",
    "check_number(-4)"
   ]
  },
  {
   "cell_type": "code",
   "execution_count": 63,
   "metadata": {},
   "outputs": [
    {
     "name": "stdout",
     "output_type": "stream",
     "text": [
      "Uppercase\n"
     ]
    }
   ],
   "source": [
    "#Question 25\n",
    "def char_type(char):\n",
    "    if char.isupper():\n",
    "        return \"Uppercase\"\n",
    "    elif char.islower():\n",
    "        return \"Lowercase\"\n",
    "    else:\n",
    "        return \"Special\"\n",
    "\n",
    "\n",
    "print(char_type(\"A\"))\n"
   ]
  },
  {
   "cell_type": "code",
   "execution_count": 65,
   "metadata": {},
   "outputs": [
    {
     "data": {
      "text/plain": [
       "1350.0"
      ]
     },
     "execution_count": 65,
     "metadata": {},
     "output_type": "execute_result"
    }
   ],
   "source": [
    "#Question 26\n",
    "def calculate_discounted_price(amt):\n",
    "    if amt >= 1000:\n",
    "        discount = 0.1  \n",
    "    elif amt >= 500:\n",
    "        discount = 0.05\n",
    "    elif amt >= 200:\n",
    "        discount = 0.03  \n",
    "    else:\n",
    "        discount = 0 \n",
    "    discounted_price = amt - (amt * discount)\n",
    "    return discounted_price\n",
    "calculate_discounted_price(1500)\n"
   ]
  },
  {
   "cell_type": "code",
   "execution_count": 70,
   "metadata": {},
   "outputs": [
    {
     "name": "stdout",
     "output_type": "stream",
     "text": [
      "370.2 Dollars\n"
     ]
    }
   ],
   "source": [
    "#Question 27\n",
    "def consumption_slabs(units):\n",
    "    if(units<100):\n",
    "        cost = units*2.0 # multiply with 2 dollars\n",
    "    elif(units<200):\n",
    "        cost = units*3.0\n",
    "    elif(units<300):\n",
    "        cost = units*4.0\n",
    "    else:\n",
    "        cost = units*6.0\n",
    "    return cost\n",
    "print(f\"{round(consumption_slabs(123.4),2)} Dollars\")\n",
    "    "
   ]
  },
  {
   "cell_type": "code",
   "execution_count": 71,
   "metadata": {},
   "outputs": [
    {
     "data": {
      "text/plain": [
       "'Quadrilateral'"
      ]
     },
     "execution_count": 71,
     "metadata": {},
     "output_type": "execute_result"
    }
   ],
   "source": [
    "#Question 28\n",
    "def quadrilateral_type(angle1, angle2, angle3, angle4, side1, side2, side3, side4):\n",
    "    if angle1 == angle2 == angle3 == angle4 == 90:\n",
    "        return \"Rectangle\"\n",
    "    elif angle1 == angle2 == angle3 == angle4 and side1 == side2 == side3 == side4:\n",
    "        return \"Square\"\n",
    "    elif angle1 == angle3 and angle2 == angle4 and side1 == side3 and side2 == side4:\n",
    "        return \"Rhombus\"\n",
    "    elif side1 == side2 == side3 == side4:\n",
    "        return \"Parallelogram\"\n",
    "    else:\n",
    "        return \"Quadrilateral\"\n",
    "\n",
    "quadrilateral_type(23,45,67,89,2,4,3,1)"
   ]
  },
  {
   "cell_type": "code",
   "execution_count": 72,
   "metadata": {},
   "outputs": [
    {
     "data": {
      "text/plain": [
       "'Spring'"
      ]
     },
     "execution_count": 72,
     "metadata": {},
     "output_type": "execute_result"
    }
   ],
   "source": [
    "#Question 29\n",
    "def season(month):\n",
    "    if month in [3, 4, 5]:\n",
    "        return \"Spring\"\n",
    "    elif month in [6, 7, 8]:\n",
    "        return \"Summer\"\n",
    "    elif month in [9, 10, 11]:\n",
    "        return \"Autumn\"\n",
    "    elif month in [12, 1, 2]:\n",
    "        return \"Winter\"\n",
    "    else:\n",
    "        return \"Invalid month\"\n",
    "\n",
    "season(4)\n"
   ]
  },
  {
   "cell_type": "code",
   "execution_count": 80,
   "metadata": {},
   "outputs": [
    {
     "data": {
      "text/plain": [
       "(True, 31)"
      ]
     },
     "execution_count": 80,
     "metadata": {},
     "output_type": "execute_result"
    }
   ],
   "source": [
    "#Question 30\n",
    "def is_leap_year(year):\n",
    "    if (year % 4 == 0 and year % 100 != 0) or (year % 400 == 0):\n",
    "        return True\n",
    "    else:\n",
    "        return False\n",
    "\n",
    "def days_in_month(month):\n",
    "    if month in [1, 3, 5, 7, 8, 10, 12]:\n",
    "        return 31\n",
    "    elif month in [4, 6, 9, 11]:\n",
    "        return 30\n",
    "    elif month == 2:\n",
    "        return 29 if is_leap_year(year) else 28\n",
    "    else:\n",
    "        return -1  # Invalid month\n",
    "year = is_leap_year(2024)\n",
    "month = days_in_month(3)\n",
    "year, month"
   ]
  },
  {
   "cell_type": "markdown",
   "metadata": {},
   "source": [
    "<h1>Page 3 of Assignment</h1>"
   ]
  },
  {
   "cell_type": "code",
   "execution_count": 96,
   "metadata": {},
   "outputs": [
    {
     "data": {
      "text/plain": [
       "'Positive'"
      ]
     },
     "execution_count": 96,
     "metadata": {},
     "output_type": "execute_result"
    }
   ],
   "source": [
    "#Question 1\n",
    "def check_number(number):\n",
    "    if number > 0:\n",
    "        return \"Positive\"\n",
    "    elif number < 0:\n",
    "        return \"Negative\"\n",
    "    else:\n",
    "        return \"Zero\"\n",
    "check_number(8)"
   ]
  },
  {
   "cell_type": "code",
   "execution_count": 85,
   "metadata": {},
   "outputs": [
    {
     "name": "stdout",
     "output_type": "stream",
     "text": [
      "Elligible\n",
      "Not elligible\n"
     ]
    }
   ],
   "source": [
    "#Question 2\n",
    "jones_age = 19\n",
    "doe_age=14\n",
    "def check(age):\n",
    "    if(age>=18):\n",
    "        print(\"Elligible\")\n",
    "    else:\n",
    "        print(\"Not elligible\")\n",
    "check(jones_age)\n",
    "check(doe_age)"
   ]
  },
  {
   "cell_type": "code",
   "execution_count": 86,
   "metadata": {},
   "outputs": [
    {
     "name": "stdout",
     "output_type": "stream",
     "text": [
      "40\n"
     ]
    }
   ],
   "source": [
    "#Question 3\n",
    "n1 =30\n",
    "n2 = 40\n",
    "def max(n1,n2):\n",
    "    if(n1>n2):\n",
    "        print(n1)\n",
    "    else:\n",
    "        print(n2)\n",
    "max(n1,n2)"
   ]
  },
  {
   "cell_type": "code",
   "execution_count": 88,
   "metadata": {},
   "outputs": [
    {
     "data": {
      "text/plain": [
       "'F'"
      ]
     },
     "execution_count": 88,
     "metadata": {},
     "output_type": "execute_result"
    }
   ],
   "source": [
    "#Question 4\n",
    "def assign_grade(score):\n",
    "    if score >= 90:\n",
    "        return 'A'\n",
    "    elif score >= 80:\n",
    "        return 'B'\n",
    "    elif score >= 70:\n",
    "        return 'C'\n",
    "    elif score >= 60:\n",
    "        return 'D'\n",
    "    elif score >= 50:\n",
    "        return 'E'\n",
    "    else:\n",
    "        return 'F'\n",
    "\n",
    "assign_grade(45)"
   ]
  },
  {
   "cell_type": "code",
   "execution_count": 87,
   "metadata": {},
   "outputs": [
    {
     "data": {
      "text/plain": [
       "True"
      ]
     },
     "execution_count": 87,
     "metadata": {},
     "output_type": "execute_result"
    }
   ],
   "source": [
    "#Question 5\n",
    "def leap_year(year):\n",
    "    if((year%4==0 and year%100!=0) or year%400==0):\n",
    "        return True\n",
    "    return False\n",
    "leap_year(2020)"
   ]
  },
  {
   "cell_type": "code",
   "execution_count": 89,
   "metadata": {},
   "outputs": [
    {
     "name": "stdout",
     "output_type": "stream",
     "text": [
      "Scalene\n"
     ]
    }
   ],
   "source": [
    "#Question 6\n",
    "side1 = 11\n",
    "side2 = 13\n",
    "side3 = 15\n",
    "def type_of_triangle(side1, side2, side3):\n",
    "    if side1 == side2 == side3:\n",
    "        print(\"Equilateral\")\n",
    "    elif side1 == side2 or side1 == side3 or side2 == side3:\n",
    "        print(\"Isosceles\")\n",
    "    else:\n",
    "        print(\"Scalene\")\n",
    "\n",
    "type_of_triangle(side1, side2, side3)\n"
   ]
  },
  {
   "cell_type": "code",
   "execution_count": 91,
   "metadata": {},
   "outputs": [
    {
     "data": {
      "text/plain": [
       "90"
      ]
     },
     "execution_count": 91,
     "metadata": {},
     "output_type": "execute_result"
    }
   ],
   "source": [
    "#Question 7\n",
    "a=10\n",
    "b=20\n",
    "c=90\n",
    "def maximum(a,b,c):\n",
    "    max = -1\n",
    "    if(a>max):\n",
    "        max=a\n",
    "        if(c>max):\n",
    "            max=c\n",
    "    return max\n",
    "maximum(a,b,c)"
   ]
  },
  {
   "cell_type": "code",
   "execution_count": 92,
   "metadata": {},
   "outputs": [
    {
     "data": {
      "text/plain": [
       "'Vowel'"
      ]
     },
     "execution_count": 92,
     "metadata": {},
     "output_type": "execute_result"
    }
   ],
   "source": [
    "#Question 8\n",
    "def check(char):\n",
    "    vowels = 'aeiouAEIOU'\n",
    "\n",
    "    if char.isalpha():\n",
    "        if char in vowels:\n",
    "            return \"Vowel\"\n",
    "        else:\n",
    "            return \"Consonant\"\n",
    "    else:\n",
    "        return \"Not a letter\"\n",
    "\n",
    "check(\"a\")"
   ]
  },
  {
   "cell_type": "code",
   "execution_count": 93,
   "metadata": {},
   "outputs": [
    {
     "data": {
      "text/plain": [
       "1710.0"
      ]
     },
     "execution_count": 93,
     "metadata": {},
     "output_type": "execute_result"
    }
   ],
   "source": [
    "#Question 9\n",
    "def calculate_discounted_price(amt):\n",
    "    if amt >= 1000:\n",
    "        discount = 0.1  \n",
    "    elif amt >= 500:\n",
    "        discount = 0.05\n",
    "    elif amt >= 200:\n",
    "        discount = 0.03  \n",
    "    else:\n",
    "        discount = 0 \n",
    "    discounted_price = amt - (amt * discount)\n",
    "    return discounted_price\n",
    "calculate_discounted_price(1900)"
   ]
  },
  {
   "cell_type": "code",
   "execution_count": 95,
   "metadata": {},
   "outputs": [
    {
     "name": "stdout",
     "output_type": "stream",
     "text": [
      "Odd number\n"
     ]
    }
   ],
   "source": [
    "#Question 10\n",
    "def check_even_or_odd(number):\n",
    "    if(number%2==0):\n",
    "        print(\"Even number\")\n",
    "    else:\n",
    "        print(\"Odd number\")\n",
    "check_even_or_odd(9)"
   ]
  },
  {
   "cell_type": "markdown",
   "metadata": {},
   "source": [
    "<h3>Intermediate Level</h3>"
   ]
  },
  {
   "cell_type": "code",
   "execution_count": 97,
   "metadata": {},
   "outputs": [
    {
     "data": {
      "text/plain": [
       "(-1.0, -1.0)"
      ]
     },
     "execution_count": 97,
     "metadata": {},
     "output_type": "execute_result"
    }
   ],
   "source": [
    "#Question 11\n",
    "def roots(a,b,c):\n",
    "    discriminant = b**2-4*a*c\n",
    "    if(discriminant<0):\n",
    "        root1 = (-b+(discriminant**0.5))/(2*a)\n",
    "        root2 = (-b-(discriminant**0.5))/(2*a)\n",
    "        return round(root2.real, 2) + round(root2.imag, 2) * 1j,round(root1.real, 2) + round(root1.imag, 2) * 1j\n",
    "    else:\n",
    "        root1 = (-b+(discriminant**0.5))/(2*a)\n",
    "        root2 = (-b-(discriminant**0.5))/(2*a)\n",
    "        return round(root1,2), round(root2,2)\n",
    "roots(1,2,1)"
   ]
  },
  {
   "cell_type": "code",
   "execution_count": 98,
   "metadata": {},
   "outputs": [
    {
     "data": {
      "text/plain": [
       "'Tuesday'"
      ]
     },
     "execution_count": 98,
     "metadata": {},
     "output_type": "execute_result"
    }
   ],
   "source": [
    "#Question 12\n",
    "def week(n):\n",
    "    if n == 1:\n",
    "        day = \"Monday\"\n",
    "    elif n == 2:\n",
    "        day = \"Tuesday\"\n",
    "    elif n == 3:\n",
    "        day = \"Wednesday\"\n",
    "    elif n == 4:\n",
    "        day = \"Thursday\"\n",
    "    elif n == 5:\n",
    "        day = \"Friday\"\n",
    "    elif n == 6:\n",
    "        day = \"Saturday\"\n",
    "    elif n == 7:\n",
    "        day = \"Sunday\"\n",
    "    else:\n",
    "        day = \"Invalid input. Please enter a number between 1 and 7.\"\n",
    "    return day\n",
    "week(2)"
   ]
  },
  {
   "cell_type": "code",
   "execution_count": 99,
   "metadata": {},
   "outputs": [
    {
     "data": {
      "text/plain": [
       "120"
      ]
     },
     "execution_count": 99,
     "metadata": {},
     "output_type": "execute_result"
    }
   ],
   "source": [
    "#Question 13\n",
    "def factorial(n):\n",
    "    if(n==1):\n",
    "        return 1\n",
    "    if(n==0):\n",
    "        return 1\n",
    "    return n*factorial(n-1)\n",
    "factorial(5)"
   ]
  },
  {
   "cell_type": "code",
   "execution_count": 102,
   "metadata": {},
   "outputs": [
    {
     "data": {
      "text/plain": [
       "30"
      ]
     },
     "execution_count": 102,
     "metadata": {},
     "output_type": "execute_result"
    }
   ],
   "source": [
    "#Question 14\n",
    "def maximum(a,b,c):\n",
    "    if(a>b and a>c):\n",
    "        return a\n",
    "    elif(c>a and c>b):\n",
    "        return c\n",
    "    elif(b>a and b>c):\n",
    "        return b\n",
    "maximum(20,10,30)        "
   ]
  },
  {
   "cell_type": "code",
   "execution_count": 113,
   "metadata": {},
   "outputs": [
    {
     "name": "stdout",
     "output_type": "stream",
     "text": [
      "Welcome to GENSEC\n",
      "Press 1 to withdraw money\n",
      "Press 2 for Balnce check\n",
      "Press 3 for Customer Service\n",
      "1\n",
      "How much do you want to withdraw?234\n",
      "Transaction Successful\n",
      "Balance:766\n"
     ]
    }
   ],
   "source": [
    "#Question 15\n",
    "balance = 1000\n",
    "print(\"Welcome to GENSEC\")\n",
    "num = int(input(\"Press 1 to withdraw money\\nPress 2 for Balnce check\\nPress 3 for Customer Service\\n\"))\n",
    "if(num ==1):\n",
    "    withdrawal_amount = int(input(\"How much do you want to withdraw?\"))\n",
    "    if(withdrawal_amount>1000):\n",
    "        print(\"Insufficient funds\")\n",
    "    else:\n",
    "        balance-= withdrawal_amount\n",
    "        print(f\"Transaction Successful\\nBalance:{balance}\")\n",
    "elif(num == 2):\n",
    "    print(f\"There is {balance} left in your account\")\n",
    "else:\n",
    "    print(\"Call +91 123456789 or email us at gensec@scam.com\")"
   ]
  },
  {
   "cell_type": "code",
   "execution_count": 114,
   "metadata": {},
   "outputs": [
    {
     "data": {
      "text/plain": [
       "True"
      ]
     },
     "execution_count": 114,
     "metadata": {},
     "output_type": "execute_result"
    }
   ],
   "source": [
    "#Question 16\n",
    "def isPalindrome(word):\n",
    "    if(word == word[::-1]):\n",
    "        return True\n",
    "    else:\n",
    "        return False\n",
    "isPalindrome(\"racecar\")"
   ]
  },
  {
   "cell_type": "code",
   "execution_count": 117,
   "metadata": {},
   "outputs": [
    {
     "name": "stdout",
     "output_type": "stream",
     "text": [
      "3.0\n"
     ]
    }
   ],
   "source": [
    "#Question 17\n",
    "myList = [9,3,4,2,6,5]\n",
    "myList = sorted(myList)\n",
    "sum = 0\n",
    "for i in range(1,len(myList)-1):\n",
    "    sum+=myList[i]\n",
    "print(sum/len(myList))"
   ]
  },
  {
   "cell_type": "code",
   "execution_count": 118,
   "metadata": {},
   "outputs": [
    {
     "data": {
      "text/plain": [
       "98.6"
      ]
     },
     "execution_count": 118,
     "metadata": {},
     "output_type": "execute_result"
    }
   ],
   "source": [
    "#Question 18\n",
    "def celsius_to_fahrenheit(celsius):\n",
    "    fahrenheit = (celsius * 9/5) + 32\n",
    "    return fahrenheit\n",
    "celsius_to_fahrenheit(37)"
   ]
  },
  {
   "cell_type": "code",
   "execution_count": 119,
   "metadata": {},
   "outputs": [
    {
     "data": {
      "text/plain": [
       "6"
      ]
     },
     "execution_count": 119,
     "metadata": {},
     "output_type": "execute_result"
    }
   ],
   "source": [
    "#Question 19\n",
    "def myCalc(a,b,symbol):\n",
    "    if(symbol == \"+\"):\n",
    "        return a+b\n",
    "    elif(symbol==\"-\"):\n",
    "        return a-b\n",
    "    elif(symbol==\"*\"):\n",
    "        return a*b\n",
    "    elif(symbol==\"/\"):\n",
    "        return a/b\n",
    "    else:\n",
    "        print(\"Error try again\")\n",
    "myCalc(2,3,\"*\")"
   ]
  },
  {
   "cell_type": "code",
   "execution_count": 120,
   "metadata": {},
   "outputs": [
    {
     "data": {
      "text/plain": [
       "((0.42697045480630835+1.199502715028224j),\n",
       " (-0.17468540428030588-0.8521365428250519j),\n",
       " (-2.252285050526002-0.3473661722031721j))"
      ]
     },
     "execution_count": 120,
     "metadata": {},
     "output_type": "execute_result"
    }
   ],
   "source": [
    "#Question 20\n",
    "def cubic_roots(a,b,c,d):\n",
    "    Q = (3*a*c - (b**2)) / (9*(a**2))\n",
    "    R = (9*a*b*c - 27*(a**2)*d - 2*(b**3)) / (54*(a**3))\n",
    "    D = (Q**3) + (R**2)\n",
    "    S = (R + (D**(1/2)))**(1/3)\n",
    "    T = (R - (D**(1/2)))**(1/3)\n",
    "\n",
    "    x1 = S + T - (b/(3*a))\n",
    "    x2 = -((S + T)/2) - (b/(3*a)) + 0.5j * (3**(1/2)) * (S - T)\n",
    "    x3 = -((S + T)/2) - (b/(3*a)) - 0.5j * (3**(1/2)) * (S - T)\n",
    "\n",
    "    return (x1,x2,x3)\n",
    "cubic_roots(1,2,3,4)"
   ]
  },
  {
   "cell_type": "markdown",
   "metadata": {},
   "source": [
    "<h3>Advanced Level</h3>"
   ]
  },
  {
   "cell_type": "code",
   "execution_count": 3,
   "metadata": {},
   "outputs": [
    {
     "data": {
      "text/plain": [
       "15956.5"
      ]
     },
     "execution_count": 3,
     "metadata": {},
     "output_type": "execute_result"
    }
   ],
   "source": [
    "#Question 21\n",
    "def calculate(amount, percent): \n",
    "    return (amount * percent) / 100\n",
    "  \n",
    "def calculate_income_tax(total_income): \n",
    "  \n",
    "    if total_income <= 250000: \n",
    "        return 0\n",
    "    elif total_income <= 500000: \n",
    "        return calculate(total_income - \n",
    "                         250000, 5) \n",
    "    elif total_income <= 750000: \n",
    "        return calculate(total_income - \n",
    "                         500000, 10) + 12500\n",
    "    elif total_income <= 1000000: \n",
    "        return calculate(total_income - \n",
    "                         750000, 15) + 37500\n",
    "    elif total_income <= 1250000: \n",
    "        return calculate(total_income - \n",
    "                         1000000, 20) + 75000\n",
    "    elif total_income <= 1500000: \n",
    "        return calculate(total_income - \n",
    "                         1250000, 25) + 125000\n",
    "    else: \n",
    "        return calculate(total_income - \n",
    "                         1500000, 30) + 187500\n",
    "calculate_income_tax(534565)"
   ]
  },
  {
   "cell_type": "code",
   "execution_count": 5,
   "metadata": {},
   "outputs": [
    {
     "name": "stdout",
     "output_type": "stream",
     "text": [
      "Choose between R, P, and S: R\n",
      "Machine chose: S\n",
      "You win!\n"
     ]
    }
   ],
   "source": [
    "#Question 22\n",
    "import random\n",
    "\n",
    "player_choice = input(\"Choose between R, P, and S: \")\n",
    "List_of_Options = [\"R\", \"P\", \"S\"]\n",
    "machine_choice = random.choice(List_of_Options)\n",
    "\n",
    "print(\"Machine chose:\", machine_choice)\n",
    "\n",
    "if player_choice == machine_choice:\n",
    "    print(\"It's a tie!\")\n",
    "elif (player_choice == \"R\" and machine_choice == \"S\") or (player_choice == \"P\" and machine_choice == \"R\") or (player_choice == \"S\" and machine_choice == \"P\"):\n",
    "    print(\"You win!\")\n",
    "else:\n",
    "    print(\"Machine wins!\")\n"
   ]
  },
  {
   "cell_type": "code",
   "execution_count": 16,
   "metadata": {},
   "outputs": [
    {
     "data": {
      "text/plain": [
       "',_-JyoFOXpht;n-dGcy,'"
      ]
     },
     "execution_count": 16,
     "metadata": {},
     "output_type": "execute_result"
    }
   ],
   "source": [
    "#Question 23\n",
    "import random as rd\n",
    "def generate_password(length_of_pwd):\n",
    "    list_of_char=\"`1234567890-=\\][;'/.,~!@#$%^&*()_+}{}']:?><\"\"QWERTYUIOPLKJHGFDSAZXCVBNMqwertyuioplkjhgfdsazxcvbnm\"\n",
    "    list_of_char =list(list_of_char)\n",
    "    s=\"\"\n",
    "    for i in range(1,length_of_pwd+1):\n",
    "        random_char = rd.choice(list_of_char)\n",
    "        s+=random_char\n",
    "    return s\n",
    "generate_password(20)\n",
    "\n"
   ]
  },
  {
   "cell_type": "code",
   "execution_count": null,
   "metadata": {},
   "outputs": [],
   "source": [
    "#Question 24\n",
    "print(\"Welcome to my game. Choose Path A or B\")\n",
    "user_Input = input()\n",
    "if(user_Input == \"A\"):\n",
    "    print(\"You found a sword, fend yourself from the animals\")\n",
    "else:\n",
    "    print(\"You found a bow and arrow\")    "
   ]
  },
  {
   "cell_type": "code",
   "execution_count": 25,
   "metadata": {},
   "outputs": [
    {
     "data": {
      "text/plain": [
       "-0.3"
      ]
     },
     "execution_count": 25,
     "metadata": {},
     "output_type": "execute_result"
    }
   ],
   "source": [
    "#Question 25\n",
    "def solve(a,b,c=None):\n",
    "    if(c==None):\n",
    "        return float(-b/a)\n",
    "    else:\n",
    "        return float((c-b)/a)\n",
    "solve(10,5,2)"
   ]
  },
  {
   "cell_type": "code",
   "execution_count": 22,
   "metadata": {},
   "outputs": [
    {
     "name": "stdout",
     "output_type": "stream",
     "text": [
      "Welcome to the Minecraft Quiz Game!\n",
      "Test your knowledge about Minecraft by answering the following question:\n",
      "What is the main character's name in Minecraft?\n",
      "A. Alex\n",
      "B. Steve\n",
      "C. Herobrine\n",
      "D. Notch\n",
      "Enter your choice (A/B/C/D): B\n",
      "Correct!\n"
     ]
    }
   ],
   "source": [
    "#Question 26\n",
    "import time\n",
    "\n",
    "def display_question():\n",
    "    print(\"What is the main character's name in Minecraft?\")\n",
    "    time.sleep(1)\n",
    "    print(\"A. Alex\")\n",
    "    time.sleep(0.5)\n",
    "    print(\"B. Steve\")\n",
    "    time.sleep(0.5)\n",
    "    print(\"C. Herobrine\")\n",
    "    time.sleep(0.5)\n",
    "    print(\"D. Notch\")\n",
    "    time.sleep(0.5)\n",
    "\n",
    "def ask_question():\n",
    "    display_question()\n",
    "    user_choice = input(\"Enter your choice (A/B/C/D): \").upper()\n",
    "    if user_choice == \"B\":\n",
    "        print(\"Correct!\")\n",
    "        return 1\n",
    "    else:\n",
    "        print(\"Incorrect.\")\n",
    "        return 0\n",
    "\n",
    "def main():\n",
    "    print(\"Welcome to the Minecraft Quiz Game!\")\n",
    "    time.sleep(1)\n",
    "    print(\"Test your knowledge about Minecraft by answering the following question:\")\n",
    "    time.sleep(1)\n",
    "    total_score = ask_question()\n",
    "\n",
    "main()"
   ]
  },
  {
   "cell_type": "code",
   "execution_count": 32,
   "metadata": {},
   "outputs": [
    {
     "data": {
      "text/plain": [
       "[1801,\n",
       " 1811,\n",
       " 1823,\n",
       " 1831,\n",
       " 1847,\n",
       " 1861,\n",
       " 1867,\n",
       " 1871,\n",
       " 1873,\n",
       " 1877,\n",
       " 1879,\n",
       " 1889,\n",
       " 1901,\n",
       " 1907,\n",
       " 1913,\n",
       " 1931,\n",
       " 1933,\n",
       " 1949,\n",
       " 1951,\n",
       " 1973,\n",
       " 1979,\n",
       " 1987,\n",
       " 1993,\n",
       " 1997,\n",
       " 1999,\n",
       " 2003,\n",
       " 2011,\n",
       " 2017,\n",
       " 2027,\n",
       " 2029]"
      ]
     },
     "execution_count": 32,
     "metadata": {},
     "output_type": "execute_result"
    }
   ],
   "source": [
    "#Question 27\n",
    "def is_year_and_prime(year):\n",
    "    for i in range(2,int(year**0.5)+1):\n",
    "        if(year%i == 0):\n",
    "            return False\n",
    "    return True\n",
    "l = [x for x in range(1800,2030) if(is_year_and_prime(x))]\n",
    "l"
   ]
  },
  {
   "cell_type": "code",
   "execution_count": 33,
   "metadata": {},
   "outputs": [
    {
     "data": {
      "text/plain": [
       "(10, 20, 30)"
      ]
     },
     "execution_count": 33,
     "metadata": {},
     "output_type": "execute_result"
    }
   ],
   "source": [
    "#Question 28\n",
    "def sort(num1,num2,num3):\n",
    "    min_num = num1\n",
    "    mid_num = num2\n",
    "    max_num = num3\n",
    "    if mid_num < min_num:\n",
    "        min_num, mid_num = mid_num, min_num\n",
    "    if max_num < min_num:\n",
    "        min_num, max_num = max_num, min_num\n",
    "    if max_num < mid_num:\n",
    "        mid_num, max_num = max_num, mid_num\n",
    "    return min_num,mid_num,max_num\n",
    "sort(10,30,20)"
   ]
  },
  {
   "cell_type": "code",
   "execution_count": 2,
   "metadata": {},
   "outputs": [
    {
     "name": "stdout",
     "output_type": "stream",
     "text": [
      "Roots of the quartic equation:\n",
      "(1.070695986873045+0.7587449567759905j)\n",
      "(1.070695986873045-0.7587449567759905j)\n",
      "(-0.07069598687304537+0.7587449567759901j)\n",
      "(-0.07069598687304537-0.7587449567759901j)\n"
     ]
    }
   ],
   "source": [
    "#Question 29\n",
    "import numpy as np\n",
    "def quartic_solver(a, b, c, d, e):\n",
    "  coeffs = [e, d, c, b, a]\n",
    "  return np.roots(coeffs)\n",
    "a, b, c, d, e = 1, -1, 2, -2, 1\n",
    "roots = quartic_solver(a, b, c, d, e)\n",
    "\n",
    "print(\"Roots of the quartic equation:\")\n",
    "for root in roots:\n",
    "  print(root)"
   ]
  },
  {
   "cell_type": "code",
   "execution_count": 5,
   "metadata": {},
   "outputs": [
    {
     "name": "stdout",
     "output_type": "stream",
     "text": [
      "Your BMI is 29.22. Overweight. Consider consulting a dietician\n"
     ]
    }
   ],
   "source": [
    "#Question 30\n",
    "def calculate_bmi(weight, height):\n",
    "  if height <= 0:\n",
    "    raise ValueError(\"Height cant be less than 0\")\n",
    "  return weight / (height * height)\n",
    "def interpret_bmi(bmi):\n",
    "  if bmi <= 18.5:\n",
    "    return \"Underweight. Consult a dietician\"\n",
    "  elif bmi <= 24.9:\n",
    "    return \"Normal weight. Keep it up\"\n",
    "  elif bmi <= 29.9:\n",
    "    return \"Overweight. Consider consulting a dietician\"\n",
    "  else:\n",
    "    return \"Obese. Seek a professional dietician\"\n",
    "\n",
    "# Example usage\n",
    "weight = 100\n",
    "height = 1.85\n",
    "bmi = calculate_bmi(weight, height)\n",
    "interpretation = interpret_bmi(bmi)\n",
    "print(f\"Your BMI is {bmi:.2f}. {interpretation}\")\n"
   ]
  },
  {
   "cell_type": "markdown",
   "metadata": {},
   "source": [
    "<h3>Challenge Level</h3>"
   ]
  },
  {
   "cell_type": "code",
   "execution_count": 7,
   "metadata": {},
   "outputs": [
    {
     "data": {
      "text/plain": [
       "True"
      ]
     },
     "execution_count": 7,
     "metadata": {},
     "output_type": "execute_result"
    }
   ],
   "source": [
    "#Question 31\n",
    "def is_valid_password(password):\n",
    "  min_length = 6\n",
    "  if len(password) < min_length:\n",
    "    return False\n",
    "  if not any(char.isupper() for char in password):\n",
    "    return False\n",
    "  if not any(char.islower() for char in password):\n",
    "    return False\n",
    "  if not any(char.isdigit() for char in password):\n",
    "    return False\n",
    "  return True\n",
    "password1 = \"Passw0rd123\"\n",
    "\n",
    "is_valid_password(password1)"
   ]
  },
  {
   "cell_type": "code",
   "execution_count": 4,
   "metadata": {},
   "outputs": [
    {
     "name": "stdout",
     "output_type": "stream",
     "text": [
      "Sum of the matrices:\n",
      "6 6 6 \n",
      "6 6 6 \n",
      "6 6 6 \n"
     ]
    }
   ],
   "source": [
    "#Question 32\n",
    "def sum_matrices(mat1, mat2):\n",
    "  if len(mat1) != len(mat2) or len(mat1[0]) != len(mat2[0]):\n",
    "    raise ValueError(\"Error: Matrices must have the same dimensions for addition.\")\n",
    "  sum_matrix = []\n",
    "  for i in range(len(mat1)):\n",
    "    row = []\n",
    "    for j in range(len(mat1[0])):\n",
    "      row.append(mat1[i][j] + mat2[i][j])\n",
    "    sum_matrix.append(row)\n",
    "  return sum_matrix\n",
    "\n",
    "C1= int(input())\n",
    "R1= int(input())\n",
    "mat1 = [[int(input()) for x in range (C1)] for y in range(R1)]\n",
    "C2= int(input())\n",
    "R2= int(input())\n",
    "mat2 = [[int(input()) for x in range (C2)] for y in range(R2)]\n",
    "sum_matrix = sum_matrices(mat1, mat2)\n",
    "print(\"Sum of the matrices:\")\n",
    "for row in sum_matrix:\n",
    "    for element in row:\n",
    "        print(element, end=\" \")  # Print elements without newlines\n",
    "    print()  # Print a newline after each row\n"
   ]
  },
  {
   "cell_type": "code",
   "execution_count": 5,
   "metadata": {},
   "outputs": [
    {
     "data": {
      "text/plain": [
       "6"
      ]
     },
     "execution_count": 5,
     "metadata": {},
     "output_type": "execute_result"
    }
   ],
   "source": [
    "#Question 33\n",
    "def gcd(a, b):\n",
    "  while b != 0:\n",
    "    remainder = a % b\n",
    "    a = b\n",
    "    b = remainder\n",
    "  return a\n",
    "num1 = 12\n",
    "num2 = 18\n",
    "gcd_result = gcd(num1, num2)\n",
    "gcd_result\n"
   ]
  },
  {
   "cell_type": "code",
   "execution_count": 10,
   "metadata": {},
   "outputs": [
    {
     "name": "stdout",
     "output_type": "stream",
     "text": [
      "[19, 22]\n",
      "[43, 50]\n"
     ]
    }
   ],
   "source": [
    "#Question 34\n",
    "def matrix_multiplication(matrix1, matrix2):\n",
    "  product_matrix = [[0 for _ in range(len(matrix2[0]))] for _ in range(len(matrix1))]\n",
    "  for i in range(len(matrix1)):\n",
    "    for j in range(len(matrix2[0])):\n",
    "      for k in range(len(matrix2)):\n",
    "        product_matrix[i][j] += matrix1[i][k] * matrix2[k][j]\n",
    "\n",
    "  return product_matrix\n",
    "matrix1 = [[1, 2], [3, 4]]\n",
    "matrix2 = [[5, 6], [7, 8]]\n",
    "\n",
    "product_matrix = matrix_multiplication(matrix1, matrix2)\n",
    "for row in product_matrix:\n",
    "    print(row)\n"
   ]
  },
  {
   "cell_type": "code",
   "execution_count": 12,
   "metadata": {},
   "outputs": [],
   "source": [
    "#Question 35\n",
    "#This question was too hard for me :(\n"
   ]
  },
  {
   "cell_type": "code",
   "execution_count": 11,
   "metadata": {},
   "outputs": [
    {
     "name": "stdout",
     "output_type": "stream",
     "text": [
      "0 1 1 2 3 5 8 13 21 34 55 89 "
     ]
    }
   ],
   "source": [
    "#Question 36\n",
    "l=[0,1]\n",
    "def fibo(n):\n",
    "    for i in range(1,n):\n",
    "        l.append(l[i]+l[i-1])\n",
    "    return l\n",
    "for i in range(len(fibo(11))):\n",
    "    print(l[i],end=\" \")\n"
   ]
  },
  {
   "cell_type": "code",
   "execution_count": 14,
   "metadata": {},
   "outputs": [
    {
     "name": "stdout",
     "output_type": "stream",
     "text": [
      "{144}\n"
     ]
    }
   ],
   "source": [
    "#Question 37\n",
    "def fm(n, memo={}):\n",
    "  if n in memo:\n",
    "    return memo[n]\n",
    "  if n <= 1:\n",
    "    return n\n",
    "  memo[n] = fm(n-1, memo) + fm(n-2, memo)\n",
    "  return memo[n]\n",
    "\n",
    "n = 12\n",
    "result = fm(n)\n",
    "print({result})\n"
   ]
  },
  {
   "cell_type": "code",
   "execution_count": 24,
   "metadata": {},
   "outputs": [],
   "source": [
    "#Question 38"
   ]
  },
  {
   "cell_type": "code",
   "execution_count": 22,
   "metadata": {},
   "outputs": [],
   "source": [
    "#Question 39\n",
    "#This was hard too"
   ]
  },
  {
   "cell_type": "code",
   "execution_count": 21,
   "metadata": {},
   "outputs": [
    {
     "data": {
      "text/plain": [
       "[2, 3, 4, 5, 6]"
      ]
     },
     "execution_count": 21,
     "metadata": {},
     "output_type": "execute_result"
    }
   ],
   "source": [
    "#Question 40\n",
    "def prime_factors(n):\n",
    "  if n <= 1:\n",
    "    return []\n",
    "  factors = [i for i in range(2, int(n**0.5) + 1) if n % i == 0]\n",
    "  return factors\n",
    "prime_factors(60)"
   ]
  },
  {
   "cell_type": "code",
   "execution_count": null,
   "metadata": {},
   "outputs": [],
   "source": []
  }
 ],
 "metadata": {
  "kernelspec": {
   "display_name": "Python 3 (ipykernel)",
   "language": "python",
   "name": "python3"
  },
  "language_info": {
   "codemirror_mode": {
    "name": "ipython",
    "version": 3
   },
   "file_extension": ".py",
   "mimetype": "text/x-python",
   "name": "python",
   "nbconvert_exporter": "python",
   "pygments_lexer": "ipython3",
   "version": "3.12.2"
  }
 },
 "nbformat": 4,
 "nbformat_minor": 4
}
